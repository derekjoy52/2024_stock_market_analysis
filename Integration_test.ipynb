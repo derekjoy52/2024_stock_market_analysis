{
 "cells": [
  {
   "cell_type": "code",
   "execution_count": 6,
   "id": "e689ec30-b07e-4b0d-b527-386d7d01c40c",
   "metadata": {},
   "outputs": [],
   "source": [
    "import import_ipynb\n",
    "from analysis_layer import read_data"
   ]
  },
  {
   "cell_type": "code",
   "execution_count": 3,
   "id": "608042e4-74c1-4ffd-9817-7b7acc39c888",
   "metadata": {},
   "outputs": [
    {
     "name": "stdout",
     "output_type": "stream",
     "text": [
      "{'ticker': 'AAPL', 'queryCount': 1, 'resultsCount': 1, 'adjusted': True, 'results': [{'v': 81964874, 'vw': 185.9465, 'o': 187.15, 'c': 185.64, 'h': 188.44, 'l': 183.885, 't': 1704171600000, 'n': 1008871}], 'status': 'OK', 'request_id': '1f4785e04bf2ce5a05ea0adf3ef8ca82', 'count': 1}\n"
     ]
    }
   ],
   "source": [
    "#Mock api response to check it is working.\n",
    "import requests_mock\n",
    "import requests\n",
    "import json\n",
    "from \n",
    "\n",
    "mock_response = {\n",
    "    \"ticker\": \"AAPL\",\n",
    "    \"queryCount\": 1,\n",
    "    \"resultsCount\": 1,\n",
    "    \"adjusted\": True,\n",
    "    \"results\": [\n",
    "        {\n",
    "            \"v\": 81964874,\n",
    "            \"vw\": 185.9465,\n",
    "            \"o\": 187.15,\n",
    "            \"c\": 185.64,\n",
    "            \"h\": 188.44,\n",
    "            \"l\": 183.885,\n",
    "            \"t\": 1704171600000,\n",
    "            \"n\": 1008871\n",
    "        }\n",
    "    ],\n",
    "    \"status\": \"OK\",\n",
    "    \"request_id\": \"1f4785e04bf2ce5a05ea0adf3ef8ca82\",\n",
    "    \"count\": 1\n",
    "}\n",
    "\n",
    "\n",
    "\n",
    "with requests_mock.Mocker() as m:\n",
    "    url= \"https://api.polygon.io/fake_api_call\"\n",
    "    #requests_mock intercepts call and return default value as json response string\n",
    "    m.get(url,json=mock_response)\n",
    "    #Below doesn't call the polygon api but instead returns the pre-defined mock response.\n",
    "    response=requests.get(url)\n",
    "    #response object is returned above. And .json() method calls enables dict output\n",
    "    print(response.json())\n",
    "\n"
   ]
  },
  {
   "cell_type": "code",
   "execution_count": 9,
   "id": "6a7e4538-2053-4251-a31e-9efd490a4715",
   "metadata": {},
   "outputs": [
    {
     "name": "stdout",
     "output_type": "stream",
     "text": [
      "Schema before transformation:\n",
      "root\n",
      " |-- ticker: string (nullable = true)\n",
      " |-- c: double (nullable = true)\n",
      " |-- t: long (nullable = true)\n",
      "\n",
      "+------+-----------+----------+\n",
      "|ticker|close_price|      date|\n",
      "+------+-----------+----------+\n",
      "|    GE|   100.5188|2024-01-02|\n",
      "|    GE|    99.0104|2024-01-03|\n",
      "|    GE|    99.4892|2024-01-04|\n",
      "|    GE|   100.7901|2024-01-05|\n",
      "|    GE|   102.3783|2024-01-08|\n",
      "|    GE|   102.7773|2024-01-09|\n",
      "|    GE|   103.5116|2024-01-10|\n",
      "|    GE|   103.6153|2024-01-11|\n",
      "|    GE|   103.5834|2024-01-12|\n",
      "|    GE|   102.1309|2024-01-16|\n",
      "|    GE|    101.261|2024-01-17|\n",
      "|    GE|   102.5938|2024-01-18|\n",
      "|    GE|   103.5994|2024-01-19|\n",
      "|    GE|   104.7326|2024-01-22|\n",
      "|    GE|   103.7111|2024-01-23|\n",
      "|    GE|   103.6951|2024-01-24|\n",
      "|    GE|   103.6951|2024-01-25|\n",
      "|    GE|   104.7007|2024-01-26|\n",
      "|    GE|   104.6289|2024-01-29|\n",
      "|    GE|   106.8875|2024-01-30|\n",
      "+------+-----------+----------+\n",
      "only showing top 20 rows\n",
      "\n"
     ]
    }
   ],
   "source": [
    "#Check the data range of imported date range is between Jan 2024 and Dec 2024\n",
    "df = read_data()\n",
    "df.show()"
   ]
  },
  {
   "cell_type": "code",
   "execution_count": null,
   "id": "42220e5d-629d-4b80-9f5e-f4f75c6c33a5",
   "metadata": {},
   "outputs": [],
   "source": [
    "#Check for nulls in each of the columns"
   ]
  },
  {
   "cell_type": "code",
   "execution_count": null,
   "id": "2f2bfc45-ea92-43d5-911c-6811e1ef6f26",
   "metadata": {},
   "outputs": [],
   "source": [
    "#Manually create a sample data set and check the results of a function. "
   ]
  }
 ],
 "metadata": {
  "kernelspec": {
   "display_name": "Python 3 (ipykernel)",
   "language": "python",
   "name": "python3"
  },
  "language_info": {
   "codemirror_mode": {
    "name": "ipython",
    "version": 3
   },
   "file_extension": ".py",
   "mimetype": "text/x-python",
   "name": "python",
   "nbconvert_exporter": "python",
   "pygments_lexer": "ipython3",
   "version": "3.9.19"
  }
 },
 "nbformat": 4,
 "nbformat_minor": 5
}
