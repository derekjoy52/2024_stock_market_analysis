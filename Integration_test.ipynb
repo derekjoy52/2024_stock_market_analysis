{
 "cells": [
  {
   "cell_type": "code",
   "execution_count": 5,
   "id": "608042e4-74c1-4ffd-9817-7b7acc39c888",
   "metadata": {},
   "outputs": [
    {
     "ename": "TypeError",
     "evalue": "Too many arguments provided. Unexpected arguments test.",
     "output_type": "error",
     "traceback": [
      "\u001b[1;31m---------------------------------------------------------------------------\u001b[0m",
      "\u001b[1;31mTypeError\u001b[0m                                 Traceback (most recent call last)",
      "Cell \u001b[1;32mIn[5], line 30\u001b[0m\n\u001b[0;32m      5\u001b[0m mock_response \u001b[38;5;241m=\u001b[39m {\n\u001b[0;32m      6\u001b[0m     \u001b[38;5;124m\"\u001b[39m\u001b[38;5;124mticker\u001b[39m\u001b[38;5;124m\"\u001b[39m: \u001b[38;5;124m\"\u001b[39m\u001b[38;5;124mAAPL\u001b[39m\u001b[38;5;124m\"\u001b[39m,\n\u001b[0;32m      7\u001b[0m     \u001b[38;5;124m\"\u001b[39m\u001b[38;5;124mqueryCount\u001b[39m\u001b[38;5;124m\"\u001b[39m: \u001b[38;5;241m1\u001b[39m,\n\u001b[1;32m   (...)\u001b[0m\n\u001b[0;32m     24\u001b[0m     \u001b[38;5;124m\"\u001b[39m\u001b[38;5;124mcount\u001b[39m\u001b[38;5;124m\"\u001b[39m: \u001b[38;5;241m1\u001b[39m\n\u001b[0;32m     25\u001b[0m }\n\u001b[0;32m     29\u001b[0m \u001b[38;5;28;01mwith\u001b[39;00m requests_mock\u001b[38;5;241m.\u001b[39mMocker() \u001b[38;5;28;01mas\u001b[39;00m m:\n\u001b[1;32m---> 30\u001b[0m     \u001b[43mm\u001b[49m\u001b[38;5;241;43m.\u001b[39;49m\u001b[43mget\u001b[49m\u001b[43m(\u001b[49m\u001b[38;5;124;43m\"\u001b[39;49m\u001b[38;5;124;43mhttps://api.polygon.io/v2/aggs/ticker/AAPL/range/1/day/2024-01-01/2024-01-02?adjusted=true&sort=asc&apiKey=aNt2GJ26Hs4tGY_uq6BjEGzBt0rrs2Vt\u001b[39;49m\u001b[38;5;124;43m\"\u001b[39;49m\u001b[43m,\u001b[49m\n\u001b[0;32m     31\u001b[0m \u001b[43m         \u001b[49m\u001b[43mtest\u001b[49m\u001b[43m \u001b[49m\u001b[38;5;241;43m=\u001b[39;49m\u001b[43m \u001b[49m\u001b[43mjson\u001b[49m\u001b[38;5;241;43m.\u001b[39;49m\u001b[43mdumps\u001b[49m\u001b[43m(\u001b[49m\u001b[43mmock_response\u001b[49m\u001b[43m)\u001b[49m\u001b[43m)\u001b[49m\n\u001b[0;32m     32\u001b[0m     response\u001b[38;5;241m=\u001b[39mrequests\u001b[38;5;241m.\u001b[39mget(\u001b[38;5;124m\"\u001b[39m\u001b[38;5;124mhttps://api.polygon.io/v2/aggs/ticker/AAPL/range/1/day/2024-01-01/2024-01-02?adjusted=true&sort=asc&apiKey=aNt2GJ26Hs4tGY_uq6BjEGzBt0rrs2Vt\u001b[39m\u001b[38;5;124m\"\u001b[39m)\n\u001b[0;32m     33\u001b[0m     \u001b[38;5;28mprint\u001b[39m(response\u001b[38;5;241m.\u001b[39mjson())\n",
      "File \u001b[1;32m~\\anaconda3\\lib\\site-packages\\requests_mock\\mocker.py:241\u001b[0m, in \u001b[0;36mMockerCore.get\u001b[1;34m(self, *args, **kwargs)\u001b[0m\n\u001b[0;32m    240\u001b[0m \u001b[38;5;28;01mdef\u001b[39;00m \u001b[38;5;21mget\u001b[39m(\u001b[38;5;28mself\u001b[39m, \u001b[38;5;241m*\u001b[39margs, \u001b[38;5;241m*\u001b[39m\u001b[38;5;241m*\u001b[39mkwargs):\n\u001b[1;32m--> 241\u001b[0m     \u001b[38;5;28;01mreturn\u001b[39;00m \u001b[38;5;28mself\u001b[39m\u001b[38;5;241m.\u001b[39mrequest(GET, \u001b[38;5;241m*\u001b[39margs, \u001b[38;5;241m*\u001b[39m\u001b[38;5;241m*\u001b[39mkwargs)\n",
      "File \u001b[1;32m~\\anaconda3\\lib\\site-packages\\requests_mock\\mocker.py:238\u001b[0m, in \u001b[0;36mMockerCore.request\u001b[1;34m(self, *args, **kwargs)\u001b[0m\n\u001b[0;32m    237\u001b[0m \u001b[38;5;28;01mdef\u001b[39;00m \u001b[38;5;21mrequest\u001b[39m(\u001b[38;5;28mself\u001b[39m, \u001b[38;5;241m*\u001b[39margs, \u001b[38;5;241m*\u001b[39m\u001b[38;5;241m*\u001b[39mkwargs):\n\u001b[1;32m--> 238\u001b[0m     \u001b[38;5;28;01mreturn\u001b[39;00m \u001b[38;5;28mself\u001b[39m\u001b[38;5;241m.\u001b[39mregister_uri(\u001b[38;5;241m*\u001b[39margs, \u001b[38;5;241m*\u001b[39m\u001b[38;5;241m*\u001b[39mkwargs)\n",
      "File \u001b[1;32m~\\anaconda3\\lib\\site-packages\\requests_mock\\mocker.py:235\u001b[0m, in \u001b[0;36mMockerCore.register_uri\u001b[1;34m(self, *args, **kwargs)\u001b[0m\n\u001b[0;32m    233\u001b[0m kwargs[\u001b[38;5;124m'\u001b[39m\u001b[38;5;124m_real_http\u001b[39m\u001b[38;5;124m'\u001b[39m] \u001b[38;5;241m=\u001b[39m kwargs\u001b[38;5;241m.\u001b[39mpop(\u001b[38;5;124m'\u001b[39m\u001b[38;5;124mreal_http\u001b[39m\u001b[38;5;124m'\u001b[39m, \u001b[38;5;28;01mFalse\u001b[39;00m)\n\u001b[0;32m    234\u001b[0m kwargs\u001b[38;5;241m.\u001b[39msetdefault(\u001b[38;5;124m'\u001b[39m\u001b[38;5;124mjson_encoder\u001b[39m\u001b[38;5;124m'\u001b[39m, \u001b[38;5;28mself\u001b[39m\u001b[38;5;241m.\u001b[39m_json_encoder)\n\u001b[1;32m--> 235\u001b[0m \u001b[38;5;28;01mreturn\u001b[39;00m \u001b[38;5;28mself\u001b[39m\u001b[38;5;241m.\u001b[39m_adapter\u001b[38;5;241m.\u001b[39mregister_uri(\u001b[38;5;241m*\u001b[39margs, \u001b[38;5;241m*\u001b[39m\u001b[38;5;241m*\u001b[39mkwargs)\n",
      "File \u001b[1;32m~\\anaconda3\\lib\\site-packages\\requests_mock\\adapter.py:295\u001b[0m, in \u001b[0;36mAdapter.register_uri\u001b[1;34m(self, method, url, response_list, **kwargs)\u001b[0m\n\u001b[0;32m    287\u001b[0m     response_list \u001b[38;5;241m=\u001b[39m [] \u001b[38;5;28;01mif\u001b[39;00m real_http \u001b[38;5;28;01melse\u001b[39;00m [kwargs]\n\u001b[0;32m    289\u001b[0m \u001b[38;5;66;03m# NOTE(jamielennox): case_sensitive is not present as a kwarg because i\u001b[39;00m\n\u001b[0;32m    290\u001b[0m \u001b[38;5;66;03m# think there would be an edge case where the adapter and register_uri\u001b[39;00m\n\u001b[0;32m    291\u001b[0m \u001b[38;5;66;03m# had different values.\u001b[39;00m\n\u001b[0;32m    292\u001b[0m \u001b[38;5;66;03m# Ideally case_sensitive would be a value passed to match() however\u001b[39;00m\n\u001b[0;32m    293\u001b[0m \u001b[38;5;66;03m# this would change the contract of matchers so we pass ito to the\u001b[39;00m\n\u001b[0;32m    294\u001b[0m \u001b[38;5;66;03m# proxy and the matcher separately.\u001b[39;00m\n\u001b[1;32m--> 295\u001b[0m responses \u001b[38;5;241m=\u001b[39m [_MatcherResponse(\u001b[38;5;241m*\u001b[39m\u001b[38;5;241m*\u001b[39mk) \u001b[38;5;28;01mfor\u001b[39;00m k \u001b[38;5;129;01min\u001b[39;00m response_list]\n\u001b[0;32m    296\u001b[0m matcher \u001b[38;5;241m=\u001b[39m _Matcher(method,\n\u001b[0;32m    297\u001b[0m                    url,\n\u001b[0;32m    298\u001b[0m                    responses,\n\u001b[1;32m   (...)\u001b[0m\n\u001b[0;32m    302\u001b[0m                    request_headers\u001b[38;5;241m=\u001b[39mrequest_headers,\n\u001b[0;32m    303\u001b[0m                    real_http\u001b[38;5;241m=\u001b[39mreal_http)\n\u001b[0;32m    304\u001b[0m \u001b[38;5;28mself\u001b[39m\u001b[38;5;241m.\u001b[39madd_matcher(matcher)\n",
      "File \u001b[1;32m~\\anaconda3\\lib\\site-packages\\requests_mock\\adapter.py:295\u001b[0m, in \u001b[0;36m<listcomp>\u001b[1;34m(.0)\u001b[0m\n\u001b[0;32m    287\u001b[0m     response_list \u001b[38;5;241m=\u001b[39m [] \u001b[38;5;28;01mif\u001b[39;00m real_http \u001b[38;5;28;01melse\u001b[39;00m [kwargs]\n\u001b[0;32m    289\u001b[0m \u001b[38;5;66;03m# NOTE(jamielennox): case_sensitive is not present as a kwarg because i\u001b[39;00m\n\u001b[0;32m    290\u001b[0m \u001b[38;5;66;03m# think there would be an edge case where the adapter and register_uri\u001b[39;00m\n\u001b[0;32m    291\u001b[0m \u001b[38;5;66;03m# had different values.\u001b[39;00m\n\u001b[0;32m    292\u001b[0m \u001b[38;5;66;03m# Ideally case_sensitive would be a value passed to match() however\u001b[39;00m\n\u001b[0;32m    293\u001b[0m \u001b[38;5;66;03m# this would change the contract of matchers so we pass ito to the\u001b[39;00m\n\u001b[0;32m    294\u001b[0m \u001b[38;5;66;03m# proxy and the matcher separately.\u001b[39;00m\n\u001b[1;32m--> 295\u001b[0m responses \u001b[38;5;241m=\u001b[39m [_MatcherResponse(\u001b[38;5;241m*\u001b[39m\u001b[38;5;241m*\u001b[39mk) \u001b[38;5;28;01mfor\u001b[39;00m k \u001b[38;5;129;01min\u001b[39;00m response_list]\n\u001b[0;32m    296\u001b[0m matcher \u001b[38;5;241m=\u001b[39m _Matcher(method,\n\u001b[0;32m    297\u001b[0m                    url,\n\u001b[0;32m    298\u001b[0m                    responses,\n\u001b[1;32m   (...)\u001b[0m\n\u001b[0;32m    302\u001b[0m                    request_headers\u001b[38;5;241m=\u001b[39mrequest_headers,\n\u001b[0;32m    303\u001b[0m                    real_http\u001b[38;5;241m=\u001b[39mreal_http)\n\u001b[0;32m    304\u001b[0m \u001b[38;5;28mself\u001b[39m\u001b[38;5;241m.\u001b[39madd_matcher(matcher)\n",
      "File \u001b[1;32m~\\anaconda3\\lib\\site-packages\\requests_mock\\response.py:231\u001b[0m, in \u001b[0;36m_MatcherResponse.__init__\u001b[1;34m(self, **kwargs)\u001b[0m\n\u001b[0;32m    228\u001b[0m \u001b[38;5;28;01mif\u001b[39;00m \u001b[38;5;28mself\u001b[39m\u001b[38;5;241m.\u001b[39m_exc \u001b[38;5;129;01mand\u001b[39;00m kwargs:\n\u001b[0;32m    229\u001b[0m     \u001b[38;5;28;01mraise\u001b[39;00m \u001b[38;5;167;01mTypeError\u001b[39;00m(\u001b[38;5;124m'\u001b[39m\u001b[38;5;124mCannot provide other arguments with exc.\u001b[39m\u001b[38;5;124m'\u001b[39m)\n\u001b[1;32m--> 231\u001b[0m _check_body_arguments(\u001b[38;5;241m*\u001b[39m\u001b[38;5;241m*\u001b[39mkwargs)\n\u001b[0;32m    232\u001b[0m \u001b[38;5;28mself\u001b[39m\u001b[38;5;241m.\u001b[39m_params \u001b[38;5;241m=\u001b[39m kwargs\n\u001b[0;32m    234\u001b[0m \u001b[38;5;66;03m# whilst in general you shouldn't do type checking in python this\u001b[39;00m\n\u001b[0;32m    235\u001b[0m \u001b[38;5;66;03m# makes sure we don't end up with differences between the way types\u001b[39;00m\n\u001b[0;32m    236\u001b[0m \u001b[38;5;66;03m# are handled between python 2 and 3.\u001b[39;00m\n",
      "File \u001b[1;32m~\\anaconda3\\lib\\site-packages\\requests_mock\\response.py:78\u001b[0m, in \u001b[0;36m_check_body_arguments\u001b[1;34m(**kwargs)\u001b[0m\n\u001b[0;32m     75\u001b[0m extra \u001b[38;5;241m=\u001b[39m [x \u001b[38;5;28;01mfor\u001b[39;00m x \u001b[38;5;129;01min\u001b[39;00m kwargs \u001b[38;5;28;01mif\u001b[39;00m x \u001b[38;5;129;01mnot\u001b[39;00m \u001b[38;5;129;01min\u001b[39;00m _HTTP_ARGS]\n\u001b[0;32m     77\u001b[0m \u001b[38;5;28;01mif\u001b[39;00m extra:\n\u001b[1;32m---> 78\u001b[0m     \u001b[38;5;28;01mraise\u001b[39;00m \u001b[38;5;167;01mTypeError\u001b[39;00m(\u001b[38;5;124m'\u001b[39m\u001b[38;5;124mToo many arguments provided. Unexpected \u001b[39m\u001b[38;5;124m'\u001b[39m\n\u001b[0;32m     79\u001b[0m                     \u001b[38;5;124m'\u001b[39m\u001b[38;5;124marguments \u001b[39m\u001b[38;5;132;01m%s\u001b[39;00m\u001b[38;5;124m.\u001b[39m\u001b[38;5;124m'\u001b[39m \u001b[38;5;241m%\u001b[39m \u001b[38;5;124m'\u001b[39m\u001b[38;5;124m, \u001b[39m\u001b[38;5;124m'\u001b[39m\u001b[38;5;241m.\u001b[39mjoin(extra))\n",
      "\u001b[1;31mTypeError\u001b[0m: Too many arguments provided. Unexpected arguments test."
     ]
    }
   ],
   "source": [
    "#Mock api response\n",
    "import requests_mock\n",
    "import json\n",
    "\n",
    "mock_response = {\n",
    "    \"ticker\": \"AAPL\",\n",
    "    \"queryCount\": 1,\n",
    "    \"resultsCount\": 1,\n",
    "    \"adjusted\": True,\n",
    "    \"results\": [\n",
    "        {\n",
    "            \"v\": 81964874,\n",
    "            \"vw\": 185.9465,\n",
    "            \"o\": 187.15,\n",
    "            \"c\": 185.64,\n",
    "            \"h\": 188.44,\n",
    "            \"l\": 183.885,\n",
    "            \"t\": 1704171600000,\n",
    "            \"n\": 1008871\n",
    "        }\n",
    "    ],\n",
    "    \"status\": \"OK\",\n",
    "    \"request_id\": \"1f4785e04bf2ce5a05ea0adf3ef8ca82\",\n",
    "    \"count\": 1\n",
    "}\n",
    "\n",
    "\n",
    "\n",
    "with requests_mock.Mocker() as m:\n",
    "    m.get(\"https://api.polygon.io/v2/aggs/ticker/AAPL/range/1/day/2024-01-01/2024-01-02?adjusted=true&sort=asc&apiKey=aNt2GJ26Hs4tGY_uq6BjEGzBt0rrs2Vt\",\n",
    "         test = json.dumps(mock_response))\n",
    "    response=requests.get(\"https://api.polygon.io/v2/aggs/ticker/AAPL/range/1/day/2024-01-01/2024-01-02?adjusted=true&sort=asc&apiKey=aNt2GJ26Hs4tGY_uq6BjEGzBt0rrs2Vt\")\n",
    "    print(response.json())"
   ]
  },
  {
   "cell_type": "code",
   "execution_count": null,
   "id": "6a7e4538-2053-4251-a31e-9efd490a4715",
   "metadata": {},
   "outputs": [],
   "source": [
    "#Check the data range of imported date range is between Jan 2024 and Dec 2024\n"
   ]
  },
  {
   "cell_type": "code",
   "execution_count": null,
   "id": "42220e5d-629d-4b80-9f5e-f4f75c6c33a5",
   "metadata": {},
   "outputs": [],
   "source": [
    "#Check for nulls in each of the columns"
   ]
  },
  {
   "cell_type": "code",
   "execution_count": null,
   "id": "2f2bfc45-ea92-43d5-911c-6811e1ef6f26",
   "metadata": {},
   "outputs": [],
   "source": [
    "#Manually create a sample data set and check the results of a function. "
   ]
  }
 ],
 "metadata": {
  "kernelspec": {
   "display_name": "Python 3 (ipykernel)",
   "language": "python",
   "name": "python3"
  },
  "language_info": {
   "codemirror_mode": {
    "name": "ipython",
    "version": 3
   },
   "file_extension": ".py",
   "mimetype": "text/x-python",
   "name": "python",
   "nbconvert_exporter": "python",
   "pygments_lexer": "ipython3",
   "version": "3.9.19"
  }
 },
 "nbformat": 4,
 "nbformat_minor": 5
}
